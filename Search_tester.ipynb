{
 "cells": [
  {
   "cell_type": "markdown",
   "metadata": {},
   "source": [
    "# Search Strategy Tester\n",
    "\n",
    "Like AI_Search_tester.ipynb but streamlined\n",
    "\n",
    "### Features\n",
    " - Load different search strategies\n",
    " - Compare search strategies\n",
    " - Visualize search strategies\n",
    " - Save results to file"
   ]
  },
  {
   "cell_type": "markdown",
   "metadata": {},
   "source": [
    "### Install Packages\n",
    "\n",
    "pip install packagers from requirements.txt if not already installed"
   ]
  },
  {
   "cell_type": "code",
   "execution_count": null,
   "metadata": {},
   "outputs": [],
   "source": [
    "#%pip install -r requirements.txt"
   ]
  },
  {
   "cell_type": "markdown",
   "metadata": {},
   "source": [
    "### Import Packages"
   ]
  },
  {
   "cell_type": "code",
   "execution_count": null,
   "metadata": {},
   "outputs": [],
   "source": [
    "import os\n",
    "import subprocess\n",
    "import numpy as np\n",
    "from tqdm.notebook import tqdm\n",
    "from renderState import *\n",
    "\n",
    "from searchclient.agent_types.classic import * \n",
    "\n",
    "from searchclient.domains.hospital.actions import (\n",
    "    NoOpAction, MoveAction, PushAction, PullAction, AnyAction, DEFAULT_MAPF_ACTION_LIBRARY, DEFAULT_HOSPITAL_ACTION_LIBRARY\n",
    ")\n",
    "\n",
    "# Import state, goal description and level classes for the MAvis hospital environment\n",
    "from searchclient.domains.hospital.state import HospitalState\n",
    "from searchclient.domains.hospital.goal_description import HospitalGoalDescription\n",
    "from searchclient.domains.hospital.level import HospitalLevel\n",
    "\n",
    "from searchclient.search_algorithms.graph_search import graph_search\n",
    "\n",
    "# Import the different search strategies for both uninformed and informed search\n",
    "from searchclient.strategies.bfs import FrontierBFS\n",
    "from searchclient.strategies.dfs import FrontierDFS\n",
    "from searchclient.strategies.bestfirst import FrontierBestFirst, FrontierGreedy, FrontierAStar\n",
    "\n",
    "# Import heuristic classes, to be used in informed search methods\n",
    "from searchclient.domains.hospital.heuristics import (\n",
    "    HospitalZeroHeuristic, HospitalGoalCountHeuristics, HospitalAdvancedHeuristics\n",
    ")\n",
    "\n",
    "# import functions defined in AI_Search_Experimentation_Notebook.ipynb copied over to helpers.py\n",
    "from helpers import *\n",
    "\n",
    "print(\"Modules imported successfully.\")"
   ]
  },
  {
   "cell_type": "markdown",
   "metadata": {},
   "source": [
    "## Parameters to adjust"
   ]
  },
  {
   "cell_type": "code",
   "execution_count": null,
   "metadata": {},
   "outputs": [],
   "source": [
    "level_path = \"levels/MAPF01.lvl\"\n",
    "\n",
    "# for pure pathfinding problems\n",
    "action_library = DEFAULT_MAPF_ACTION_LIBRARY\n",
    "\n",
    "# for sokoban-like problems (includes Push and Pull actions)\n",
    "# action_library = DEFAULT_HOSPITAL_ACTION_LIBRARY\n",
    "\n",
    "heuristic_name = \"advanced\" # zero, goalcount, advanced\n",
    "strategy_name = \"greedy\" # bfs, dfs, astar, greedy, astarverbose, greedyverbose\n",
    "n_trials = 10 # number of trials; 1 for astar, 10 for greedy"
   ]
  },
  {
   "cell_type": "markdown",
   "metadata": {},
   "source": [
    "***Don't need to edit just run***\n",
    "\n",
    "Load Level, level visualization, heuristic and action set"
   ]
  },
  {
   "cell_type": "code",
   "execution_count": null,
   "metadata": {},
   "outputs": [],
   "source": [
    "level_lines = load_level_file_from_path(level_path)\n",
    "level = HospitalLevel.parse_level_lines(level_lines)\n",
    "\n",
    "initial_state = HospitalState(level, level.initial_agent_positions, level.initial_box_positions)\n",
    "\n",
    "goal_description = HospitalGoalDescription(level, level.box_goals + level.agent_goals)\n",
    "\n",
    "print('The initial state of the level is:')\n",
    "print(initial_state)\n",
    "\n",
    "print('\\nThe goal description of the level is:')\n",
    "print(goal_description) \n",
    "\n",
    "action_set = [action_library] * level.num_agents\n",
    "\n",
    "# load heuristic and action set\n",
    "heuristic = {\n",
    "        'zero': HospitalZeroHeuristic,\n",
    "        'goalcount': HospitalGoalCountHeuristics,\n",
    "        'advanced': HospitalAdvancedHeuristics,\n",
    "    }.get(heuristic_name, HospitalZeroHeuristic)()\n",
    "\n",
    "frontier = {\n",
    "        'bfs': FrontierBFS,\n",
    "        'dfs': FrontierDFS,\n",
    "        'astar': lambda: FrontierAStar(heuristic),\n",
    "        'greedy': lambda: FrontierGreedy(heuristic),\n",
    "        'astarverbose': lambda: FrontierAStar(heuristic, verbose=True),\n",
    "        'greedyverbose': lambda: FrontierGreedy(heuristic, verbose=True)\n",
    "    }.get(strategy_name, FrontierBFS)()"
   ]
  },
  {
   "cell_type": "markdown",
   "metadata": {},
   "source": [
    "## Run search algorithm"
   ]
  },
  {
   "cell_type": "code",
   "execution_count": null,
   "metadata": {},
   "outputs": [],
   "source": [
    "plans, sol_lengths, generated, elapsed = [], [], [], []\n",
    "for n in tqdm(range(n_trials)):\n",
    "    planning_success, plan, num_generated, elapsed_time = graph_search(initial_state, action_set, goal_description, frontier)\n",
    "    plans.append(plan)\n",
    "    sol_lengths.append(len(plan))\n",
    "    generated.append(int(num_generated))\n",
    "    elapsed.append(elapsed_time)"
   ]
  },
  {
   "cell_type": "markdown",
   "metadata": {},
   "source": [
    "### Trial results"
   ]
  },
  {
   "cell_type": "code",
   "execution_count": null,
   "metadata": {},
   "outputs": [],
   "source": [
    "# The graph search function returns the following:\n",
    "print('Number of trials:', n_trials)\n",
    "print('Average solution length:', np.mean(sol_lengths))\n",
    "print('Solution length variance :', np.var(sol_lengths))\n",
    "print('Average number of states generated:', np.mean(generated))\n",
    "print('Number of states generated variance :', np.var(generated))\n",
    "print('Average time taken:', np.mean(elapsed))"
   ]
  },
  {
   "cell_type": "markdown",
   "metadata": {},
   "source": [
    "### Visualize trial results"
   ]
  },
  {
   "cell_type": "code",
   "execution_count": null,
   "metadata": {},
   "outputs": [],
   "source": [
    "# Select trial to render\n",
    "index_to_render = 0\n",
    "\n",
    "render_plan(\n",
    "    level_path,\n",
    "    plans[index_to_render], \n",
    "    strategy_name, \n",
    "    heuristic_name, \n",
    "    generated[index_to_render],\n",
    "    elapsed[index_to_render], \n",
    "    sol_lengths[index_to_render]\n",
    ")"
   ]
  },
  {
   "cell_type": "markdown",
   "metadata": {},
   "source": [
    "## Save results to file"
   ]
  },
  {
   "cell_type": "code",
   "execution_count": null,
   "metadata": {},
   "outputs": [],
   "source": [
    "results_dir = os.path.join(os.getcwd(), '.results')\n",
    "if not os.path.exists(results_dir):\n",
    "    os.makedirs(results_dir)\n",
    "\n",
    "for n in range(n_trials):\n",
    "    results_file = os.path.join(results_dir, f'{level_path.split(\"/\")[-1]}_{strategy_name}_{heuristic_name}_results_{n}.txt')\n",
    "    with open(results_file, 'w') as f:\n",
    "        f.write(\",\".join(map(str, plans[n])))\n",
    "\n"
   ]
  }
 ],
 "metadata": {
  "kernelspec": {
   "display_name": "artificialIntelligence",
   "language": "python",
   "name": "python3"
  },
  "language_info": {
   "codemirror_mode": {
    "name": "ipython",
    "version": 3
   },
   "file_extension": ".py",
   "mimetype": "text/x-python",
   "name": "python",
   "nbconvert_exporter": "python",
   "pygments_lexer": "ipython3",
   "version": "3.13.1"
  }
 },
 "nbformat": 4,
 "nbformat_minor": 2
}
